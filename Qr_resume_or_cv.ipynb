{
  "nbformat": 4,
  "nbformat_minor": 0,
  "metadata": {
    "colab": {
      "name": "Qr_resume_or_cv",
      "provenance": [],
      "collapsed_sections": [],
      "authorship_tag": "ABX9TyPC/rybX+jGcVspl6Z+8FH2",
      "include_colab_link": true
    },
    "kernelspec": {
      "name": "python3",
      "display_name": "Python 3"
    },
    "language_info": {
      "name": "python"
    }
  },
  "cells": [
    {
      "cell_type": "markdown",
      "metadata": {
        "id": "view-in-github",
        "colab_type": "text"
      },
      "source": [
        "<a href=\"https://colab.research.google.com/github/shegoman/Qr_resume_or_cv/blob/main/Qr_resume_or_cv.ipynb\" target=\"_parent\"><img src=\"https://colab.research.google.com/assets/colab-badge.svg\" alt=\"Open In Colab\"/></a>"
      ]
    },
    {
      "cell_type": "markdown",
      "source": [
        "Creating QR for resume or cv"
      ],
      "metadata": {
        "id": "voY6G0cCczrm"
      }
    },
    {
      "cell_type": "code",
      "execution_count": 5,
      "metadata": {
        "colab": {
          "base_uri": "https://localhost:8080/"
        },
        "id": "_mH7es2lcKqK",
        "outputId": "aa1cec27-b0e9-4a97-bae6-24a1910d0f3d"
      },
      "outputs": [
        {
          "output_type": "stream",
          "name": "stdout",
          "text": [
            "Requirement already satisfied: pyqrcode in /usr/local/lib/python3.7/dist-packages (1.2.1)\n"
          ]
        }
      ],
      "source": [
        "# Install qrcode !pip install pyqrcode\n",
        "!pip install pyqrcode"
      ]
    },
    {
      "cell_type": "code",
      "source": [
        "# Install png !pip install pypng\n",
        "!pip install pypng"
      ],
      "metadata": {
        "colab": {
          "base_uri": "https://localhost:8080/"
        },
        "id": "86Loeu51cw5Z",
        "outputId": "c7beec78-50f9-462a-9035-63f6d9f578df"
      },
      "execution_count": 6,
      "outputs": [
        {
          "output_type": "stream",
          "name": "stdout",
          "text": [
            "Requirement already satisfied: pypng in /usr/local/lib/python3.7/dist-packages (0.0.21)\n"
          ]
        }
      ]
    },
    {
      "cell_type": "code",
      "source": [
        "# Import QRCode from pyqrcode\n",
        "import pyqrcode\n",
        "import png\n",
        "from pyqrcode import QRCode\n",
        "# generate the QR code\n",
        "# upload the document to google drive and cogpy the url link of the document uploaded to google drive \n",
        "cv=pyqrcode.create(\"https://drive.google.com/file/d/1G7-GDtYBCQ7T6jScOpkLfH2clgczJ-jy/view?usp=drivesdk\")\n",
        "# Create and save the svg file\n",
        "cv.svg(\"oyedotunResume_or_CV1.svg\", scale = 4)"
      ],
      "metadata": {
        "id": "-hptqZA3eQ2E"
      },
      "execution_count": null,
      "outputs": []
    },
    {
      "cell_type": "code",
      "source": [
        "# Import QRCode from pyqrcode\n",
        "import pyqrcode\n",
        "import png\n",
        "from pyqrcode import QRCode\n",
        "# generate the QR code\n",
        "# upload the document to google drive and cogpy the url link of the document uploaded to google drive \n",
        "cv=pyqrcode.create(\"https://drive.google.com/file/d/1G7-GDtYBCQ7T6jScOpkLfH2clgczJ-jy/view?usp=drivesdk\")\n",
        "# Create and save the png file\n",
        "cv.png(\"oyedotunResume_or_CV.png\", scale = 4)"
      ],
      "metadata": {
        "id": "5Cp7htpueaGg"
      },
      "execution_count": null,
      "outputs": []
    }
  ]
}